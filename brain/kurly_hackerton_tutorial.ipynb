{
 "cells": [
  {
   "cell_type": "markdown",
   "id": "f0cd9a63",
   "metadata": {},
   "source": [
    "# Kurly Hackerton 2022 - 나만의 상점 만들기 \n",
    "## RS ENS_LinUCB algorithm tutorial \n",
    "\n",
    "### written by. DS 담당 이은표(Team Markurly)\n",
    "\n",
    "\n"
   ]
  },
  {
   "cell_type": "code",
   "execution_count": 1,
   "id": "91819368",
   "metadata": {},
   "outputs": [],
   "source": [
    "# Load dependencies\n",
    "from makurly_RS import *\n"
   ]
  },
  {
   "cell_type": "markdown",
   "id": "817220f6",
   "metadata": {},
   "source": [
    "# Loading Data "
   ]
  },
  {
   "cell_type": "code",
   "execution_count": 9,
   "id": "2f420c88",
   "metadata": {},
   "outputs": [],
   "source": [
    "#pw = ''\n",
    "#ip = ''\n",
    "#tab_name = ''\n",
    "#q = \"mariadb://makurly:\" + pw + \"@\"\" + ip + \"/\"  + tab_name + \"?charset=utf8mb4\" "
   ]
  },
  {
   "cell_type": "code",
   "execution_count": 4,
   "id": "ab27272b",
   "metadata": {},
   "outputs": [],
   "source": [
    "# Load data\n",
    "engine = create_engine(q) # q : 보안 관계로 삭제\n",
    "customer = pd.read_sql(\"SELECT * FROM customer\", engine)\n",
    "item = pd.read_sql(\"SELECT * FROM item\", engine)\n",
    "interaction = pd.read_sql(\"SELECT * FROM interaction\", engine)\n",
    "interaction_item = pd.read_sql(\"SELECT * FROM interaction_item\", engine)"
   ]
  },
  {
   "cell_type": "code",
   "execution_count": 5,
   "id": "2047dc35",
   "metadata": {},
   "outputs": [
    {
     "data": {
      "text/html": [
       "<div>\n",
       "<style scoped>\n",
       "    .dataframe tbody tr th:only-of-type {\n",
       "        vertical-align: middle;\n",
       "    }\n",
       "\n",
       "    .dataframe tbody tr th {\n",
       "        vertical-align: top;\n",
       "    }\n",
       "\n",
       "    .dataframe thead th {\n",
       "        text-align: right;\n",
       "    }\n",
       "</style>\n",
       "<table border=\"1\" class=\"dataframe\">\n",
       "  <thead>\n",
       "    <tr style=\"text-align: right;\">\n",
       "      <th></th>\n",
       "      <th>id</th>\n",
       "      <th>name</th>\n",
       "      <th>gender</th>\n",
       "      <th>birth_date</th>\n",
       "      <th>device</th>\n",
       "      <th>main_address</th>\n",
       "      <th>detailed_address</th>\n",
       "      <th>sign_in_date</th>\n",
       "    </tr>\n",
       "  </thead>\n",
       "  <tbody>\n",
       "    <tr>\n",
       "      <th>0</th>\n",
       "      <td>1</td>\n",
       "      <td>jiho</td>\n",
       "      <td>MALE</td>\n",
       "      <td>1964-01-01</td>\n",
       "      <td>iOS</td>\n",
       "      <td>서울특별시 서초구 서초대로73길 7</td>\n",
       "      <td>지하 1층</td>\n",
       "      <td>2018-01-01</td>\n",
       "    </tr>\n",
       "    <tr>\n",
       "      <th>1</th>\n",
       "      <td>2</td>\n",
       "      <td>pkeugine</td>\n",
       "      <td>MALE</td>\n",
       "      <td>1964-01-01</td>\n",
       "      <td>iOS</td>\n",
       "      <td>서울특별시 강남구 테헤란로 133</td>\n",
       "      <td>18층(역삼동)</td>\n",
       "      <td>2018-01-01</td>\n",
       "    </tr>\n",
       "    <tr>\n",
       "      <th>2</th>\n",
       "      <td>3</td>\n",
       "      <td>bob</td>\n",
       "      <td>MALE</td>\n",
       "      <td>1993-01-01</td>\n",
       "      <td>iOS</td>\n",
       "      <td>서울특별시 강남구 테헤란로 133</td>\n",
       "      <td>18층(역삼동)</td>\n",
       "      <td>2018-01-01</td>\n",
       "    </tr>\n",
       "    <tr>\n",
       "      <th>3</th>\n",
       "      <td>4</td>\n",
       "      <td>alice</td>\n",
       "      <td>MALE</td>\n",
       "      <td>1974-01-01</td>\n",
       "      <td>Android</td>\n",
       "      <td>서울특별시 강남구 테헤란로 133</td>\n",
       "      <td>18층(역삼동)</td>\n",
       "      <td>2018-01-01</td>\n",
       "    </tr>\n",
       "    <tr>\n",
       "      <th>4</th>\n",
       "      <td>5</td>\n",
       "      <td>eve</td>\n",
       "      <td>FEMALE</td>\n",
       "      <td>1964-01-01</td>\n",
       "      <td>iOS</td>\n",
       "      <td>서울특별시 강남구 테헤란로 133</td>\n",
       "      <td>18층(역삼동)</td>\n",
       "      <td>2018-01-01</td>\n",
       "    </tr>\n",
       "  </tbody>\n",
       "</table>\n",
       "</div>"
      ],
      "text/plain": [
       "   id      name  gender  birth_date   device         main_address  \\\n",
       "0   1      jiho    MALE  1964-01-01      iOS  서울특별시 서초구 서초대로73길 7   \n",
       "1   2  pkeugine    MALE  1964-01-01      iOS   서울특별시 강남구 테헤란로 133   \n",
       "2   3       bob    MALE  1993-01-01      iOS   서울특별시 강남구 테헤란로 133   \n",
       "3   4     alice    MALE  1974-01-01  Android   서울특별시 강남구 테헤란로 133   \n",
       "4   5       eve  FEMALE  1964-01-01      iOS   서울특별시 강남구 테헤란로 133   \n",
       "\n",
       "  detailed_address sign_in_date  \n",
       "0            지하 1층   2018-01-01  \n",
       "1         18층(역삼동)   2018-01-01  \n",
       "2         18층(역삼동)   2018-01-01  \n",
       "3         18층(역삼동)   2018-01-01  \n",
       "4         18층(역삼동)   2018-01-01  "
      ]
     },
     "execution_count": 5,
     "metadata": {},
     "output_type": "execute_result"
    }
   ],
   "source": [
    "customer.head()"
   ]
  },
  {
   "cell_type": "code",
   "execution_count": 6,
   "id": "9ab3e5b6",
   "metadata": {},
   "outputs": [
    {
     "data": {
      "text/html": [
       "<div>\n",
       "<style scoped>\n",
       "    .dataframe tbody tr th:only-of-type {\n",
       "        vertical-align: middle;\n",
       "    }\n",
       "\n",
       "    .dataframe tbody tr th {\n",
       "        vertical-align: top;\n",
       "    }\n",
       "\n",
       "    .dataframe thead th {\n",
       "        text-align: right;\n",
       "    }\n",
       "</style>\n",
       "<table border=\"1\" class=\"dataframe\">\n",
       "  <thead>\n",
       "    <tr style=\"text-align: right;\">\n",
       "      <th></th>\n",
       "      <th>id</th>\n",
       "      <th>name</th>\n",
       "      <th>category</th>\n",
       "      <th>price</th>\n",
       "      <th>img_url</th>\n",
       "    </tr>\n",
       "  </thead>\n",
       "  <tbody>\n",
       "    <tr>\n",
       "      <th>0</th>\n",
       "      <td>1</td>\n",
       "      <td>소스 듬뿍 스테이크 3종</td>\n",
       "      <td>샐러드·닭가슴살</td>\n",
       "      <td>8900</td>\n",
       "      <td>https://product-image.kurly.com/product/image/...</td>\n",
       "    </tr>\n",
       "    <tr>\n",
       "      <th>1</th>\n",
       "      <td>2</td>\n",
       "      <td>시그니처 샐러드 4종</td>\n",
       "      <td>샐러드·닭가슴살</td>\n",
       "      <td>6500</td>\n",
       "      <td>https://product-image.kurly.com/product/image/...</td>\n",
       "    </tr>\n",
       "    <tr>\n",
       "      <th>2</th>\n",
       "      <td>3</td>\n",
       "      <td>냉동 닭가슴살 4종 (3개입)</td>\n",
       "      <td>샐러드·닭가슴살</td>\n",
       "      <td>6990</td>\n",
       "      <td>https://product-image.kurly.com/product/image/...</td>\n",
       "    </tr>\n",
       "    <tr>\n",
       "      <th>3</th>\n",
       "      <td>4</td>\n",
       "      <td>닭가슴살 야채볶음밥(4개입)</td>\n",
       "      <td>샐러드·닭가슴살</td>\n",
       "      <td>11600</td>\n",
       "      <td>https://product-image.kurly.com/product/image/...</td>\n",
       "    </tr>\n",
       "    <tr>\n",
       "      <th>4</th>\n",
       "      <td>5</td>\n",
       "      <td>에그마요 샌드위치 2종</td>\n",
       "      <td>샐러드·닭가슴살</td>\n",
       "      <td>3000</td>\n",
       "      <td>https://img-cf.kurly.com/shop/data/goods/16500...</td>\n",
       "    </tr>\n",
       "  </tbody>\n",
       "</table>\n",
       "</div>"
      ],
      "text/plain": [
       "   id              name  category  price  \\\n",
       "0   1     소스 듬뿍 스테이크 3종  샐러드·닭가슴살   8900   \n",
       "1   2       시그니처 샐러드 4종  샐러드·닭가슴살   6500   \n",
       "2   3  냉동 닭가슴살 4종 (3개입)  샐러드·닭가슴살   6990   \n",
       "3   4   닭가슴살 야채볶음밥(4개입)  샐러드·닭가슴살  11600   \n",
       "4   5      에그마요 샌드위치 2종  샐러드·닭가슴살   3000   \n",
       "\n",
       "                                             img_url  \n",
       "0  https://product-image.kurly.com/product/image/...  \n",
       "1  https://product-image.kurly.com/product/image/...  \n",
       "2  https://product-image.kurly.com/product/image/...  \n",
       "3  https://product-image.kurly.com/product/image/...  \n",
       "4  https://img-cf.kurly.com/shop/data/goods/16500...  "
      ]
     },
     "execution_count": 6,
     "metadata": {},
     "output_type": "execute_result"
    }
   ],
   "source": [
    "item.head()"
   ]
  },
  {
   "cell_type": "code",
   "execution_count": 7,
   "id": "15f74129",
   "metadata": {},
   "outputs": [
    {
     "data": {
      "text/html": [
       "<div>\n",
       "<style scoped>\n",
       "    .dataframe tbody tr th:only-of-type {\n",
       "        vertical-align: middle;\n",
       "    }\n",
       "\n",
       "    .dataframe tbody tr th {\n",
       "        vertical-align: top;\n",
       "    }\n",
       "\n",
       "    .dataframe thead th {\n",
       "        text-align: right;\n",
       "    }\n",
       "</style>\n",
       "<table border=\"1\" class=\"dataframe\">\n",
       "  <thead>\n",
       "    <tr style=\"text-align: right;\">\n",
       "      <th></th>\n",
       "      <th>id</th>\n",
       "      <th>customer_id</th>\n",
       "      <th>order_date</th>\n",
       "    </tr>\n",
       "  </thead>\n",
       "  <tbody>\n",
       "    <tr>\n",
       "      <th>0</th>\n",
       "      <td>1</td>\n",
       "      <td>7</td>\n",
       "      <td>2019-12-31 17:51:00</td>\n",
       "    </tr>\n",
       "    <tr>\n",
       "      <th>1</th>\n",
       "      <td>2</td>\n",
       "      <td>8</td>\n",
       "      <td>2020-01-04 12:57:00</td>\n",
       "    </tr>\n",
       "    <tr>\n",
       "      <th>2</th>\n",
       "      <td>3</td>\n",
       "      <td>9</td>\n",
       "      <td>2020-01-02 15:57:00</td>\n",
       "    </tr>\n",
       "    <tr>\n",
       "      <th>3</th>\n",
       "      <td>4</td>\n",
       "      <td>10</td>\n",
       "      <td>2020-01-02 14:12:00</td>\n",
       "    </tr>\n",
       "    <tr>\n",
       "      <th>4</th>\n",
       "      <td>5</td>\n",
       "      <td>14</td>\n",
       "      <td>2020-01-01 07:16:00</td>\n",
       "    </tr>\n",
       "  </tbody>\n",
       "</table>\n",
       "</div>"
      ],
      "text/plain": [
       "   id  customer_id          order_date\n",
       "0   1            7 2019-12-31 17:51:00\n",
       "1   2            8 2020-01-04 12:57:00\n",
       "2   3            9 2020-01-02 15:57:00\n",
       "3   4           10 2020-01-02 14:12:00\n",
       "4   5           14 2020-01-01 07:16:00"
      ]
     },
     "execution_count": 7,
     "metadata": {},
     "output_type": "execute_result"
    }
   ],
   "source": [
    "interaction.head()"
   ]
  },
  {
   "cell_type": "code",
   "execution_count": 8,
   "id": "cacf0b43",
   "metadata": {},
   "outputs": [
    {
     "data": {
      "text/html": [
       "<div>\n",
       "<style scoped>\n",
       "    .dataframe tbody tr th:only-of-type {\n",
       "        vertical-align: middle;\n",
       "    }\n",
       "\n",
       "    .dataframe tbody tr th {\n",
       "        vertical-align: top;\n",
       "    }\n",
       "\n",
       "    .dataframe thead th {\n",
       "        text-align: right;\n",
       "    }\n",
       "</style>\n",
       "<table border=\"1\" class=\"dataframe\">\n",
       "  <thead>\n",
       "    <tr style=\"text-align: right;\">\n",
       "      <th></th>\n",
       "      <th>id</th>\n",
       "      <th>quantity</th>\n",
       "      <th>interaction_id</th>\n",
       "      <th>item_id</th>\n",
       "    </tr>\n",
       "  </thead>\n",
       "  <tbody>\n",
       "    <tr>\n",
       "      <th>0</th>\n",
       "      <td>1</td>\n",
       "      <td>1</td>\n",
       "      <td>1</td>\n",
       "      <td>65</td>\n",
       "    </tr>\n",
       "    <tr>\n",
       "      <th>1</th>\n",
       "      <td>2</td>\n",
       "      <td>1</td>\n",
       "      <td>1</td>\n",
       "      <td>135</td>\n",
       "    </tr>\n",
       "    <tr>\n",
       "      <th>2</th>\n",
       "      <td>3</td>\n",
       "      <td>1</td>\n",
       "      <td>1</td>\n",
       "      <td>124</td>\n",
       "    </tr>\n",
       "    <tr>\n",
       "      <th>3</th>\n",
       "      <td>4</td>\n",
       "      <td>1</td>\n",
       "      <td>2</td>\n",
       "      <td>97</td>\n",
       "    </tr>\n",
       "    <tr>\n",
       "      <th>4</th>\n",
       "      <td>5</td>\n",
       "      <td>1</td>\n",
       "      <td>2</td>\n",
       "      <td>74</td>\n",
       "    </tr>\n",
       "  </tbody>\n",
       "</table>\n",
       "</div>"
      ],
      "text/plain": [
       "   id  quantity  interaction_id  item_id\n",
       "0   1         1               1       65\n",
       "1   2         1               1      135\n",
       "2   3         1               1      124\n",
       "3   4         1               2       97\n",
       "4   5         1               2       74"
      ]
     },
     "execution_count": 8,
     "metadata": {},
     "output_type": "execute_result"
    }
   ],
   "source": [
    "interaction_item.head()"
   ]
  },
  {
   "cell_type": "markdown",
   "id": "0c838471",
   "metadata": {},
   "source": [
    "# Train-test split (by current_date)"
   ]
  },
  {
   "cell_type": "code",
   "execution_count": 10,
   "id": "19ff5082",
   "metadata": {},
   "outputs": [],
   "source": [
    "current_date = '2021-01-01'\n",
    "\n",
    "# interaction -> interaction_train, interaction_test\n",
    "interaction_train = interaction[interaction['order_date']< current_date].reset_index(drop=True)\n",
    "interaction_test = interaction[interaction['order_date']>= current_date].reset_index(drop=True)\n",
    "\n",
    "\n",
    "# interaction_item -> train, test\n",
    "train_interaction_list = np.unique(interaction_train.id)\n",
    "test_interaction_list = np.unique(interaction_test.id)\n",
    "\n",
    "interaction_item_train = interaction_item[interaction_item.interaction_id.isin(train_interaction_list)]\n",
    "interaction_item_test = interaction_item[interaction_item.interaction_id.isin(test_interaction_list)]\n",
    "\n",
    "\n",
    "del train_interaction_list, test_interaction_list"
   ]
  },
  {
   "cell_type": "markdown",
   "id": "2670b770",
   "metadata": {},
   "source": [
    "# Fitting Baseline models on Train interactions\n",
    "\n",
    "## Fitting matrix factorization models"
   ]
  },
  {
   "cell_type": "markdown",
   "id": "4de35d6c",
   "metadata": {},
   "source": [
    "Generating R(rating matrix)"
   ]
  },
  {
   "cell_type": "code",
   "execution_count": 11,
   "id": "7fe41247",
   "metadata": {},
   "outputs": [],
   "source": [
    "R_train = transform_rating_mat(interaction = interaction_train, \n",
    "                     interaction_item = interaction_item_train, \n",
    "                     current_time = current_date) \n",
    "\n"
   ]
  },
  {
   "cell_type": "markdown",
   "id": "2eaee1a1",
   "metadata": {},
   "source": [
    "Fitting explicit model : ex1, ex2"
   ]
  },
  {
   "cell_type": "code",
   "execution_count": 12,
   "id": "da186e0c",
   "metadata": {},
   "outputs": [],
   "source": [
    "ex1 = recommender_explicitMF(max_iters=15, n_factor=10, reg_lambda=10)\n",
    "\n",
    "ex1.fit(R_train)"
   ]
  },
  {
   "cell_type": "markdown",
   "id": "76b06c1a",
   "metadata": {},
   "source": [
    "Fitting implicit model : im1, im2"
   ]
  },
  {
   "cell_type": "code",
   "execution_count": 13,
   "id": "b916afc2",
   "metadata": {
    "collapsed": true
   },
   "outputs": [
    {
     "name": "stdout",
     "output_type": "stream",
     "text": [
      "n_iter 0\n",
      "n_iter 1\n",
      "n_iter 2\n",
      "n_iter 3\n",
      "n_iter 4\n",
      "n_iter 5\n",
      "n_iter 6\n",
      "n_iter 7\n",
      "n_iter 8\n",
      "n_iter 9\n",
      "n_iter 10\n",
      "n_iter 11\n",
      "n_iter 12\n",
      "n_iter 13\n",
      "n_iter 14\n"
     ]
    }
   ],
   "source": [
    "im1 = recommender_implicitMF(max_iters=15, n_factor =10, alpha = 40, reg_lambda = 10)\n",
    "\n",
    "\n",
    "im1.fit(R_train)\n"
   ]
  },
  {
   "cell_type": "markdown",
   "id": "b170da77",
   "metadata": {},
   "source": [
    "## Fitting random recommender"
   ]
  },
  {
   "cell_type": "code",
   "execution_count": 14,
   "id": "0a38259c",
   "metadata": {},
   "outputs": [],
   "source": [
    "rd1 = random_recommender()"
   ]
  },
  {
   "cell_type": "markdown",
   "id": "974c5906",
   "metadata": {},
   "source": [
    "# Experiment  & Dashboard data\n"
   ]
  },
  {
   "cell_type": "markdown",
   "id": "b671fffb",
   "metadata": {},
   "source": [
    "### AP_calc : metric(AP, Recall) calculator from recorded experiment"
   ]
  },
  {
   "cell_type": "code",
   "execution_count": 23,
   "id": "81221c8e",
   "metadata": {},
   "outputs": [],
   "source": [
    "import ml_metrics as metrics\n",
    "\n",
    "def AP_calc(model_name, res) : \n",
    "    interaction_id_l = []\n",
    "    AP5_l = []; Recall5_l = []\n",
    "    for t in range(len(res)) : \n",
    "        interaction_id_t = res[t]['interaction_id']\n",
    "        \n",
    "        prediction_N_t = res[t]['top_N_item_id']\n",
    "        actual_t = list(interaction_item.loc[interaction_item['interaction_id'] == interaction_id_t, 'item_id'].values)\n",
    "        \n",
    "        AP5 = metrics.apk(actual_t,prediction_N_t,5)\n",
    "        Recall5 = np.mean([t in prediction_N_t for t in actual_t])\n",
    "        \n",
    "        interaction_id_l.append(interaction_id_t)\n",
    "        AP5_l.append(AP5)\n",
    "        Recall5_l.append(Recall5)\n",
    "    \n",
    "    return pd.DataFrame({'model':model_name ,'interaction_id': interaction_id_l, 'AP@5':AP5_l, 'Recall@5': Recall5_l })\n",
    "\n",
    "\n"
   ]
  },
  {
   "cell_type": "markdown",
   "id": "97149862",
   "metadata": {},
   "source": [
    "### use only 20% of test sets to reduce time (just for now). "
   ]
  },
  {
   "cell_type": "code",
   "execution_count": 16,
   "id": "cf63337b",
   "metadata": {},
   "outputs": [],
   "source": [
    "# using \n",
    "ratio = 0.2\n",
    "_ = np.random.choice(list(range(interaction_test.shape[0])), \n",
    "                 size= int(interaction_test.shape[0]*ratio), \n",
    "                 replace=False)"
   ]
  },
  {
   "cell_type": "code",
   "execution_count": 17,
   "id": "07e3684f",
   "metadata": {},
   "outputs": [],
   "source": [
    "interaction_test_2 = interaction_test.iloc[_, : ].sort_values('order_date').reset_index(drop=True)\n",
    "\n"
   ]
  },
  {
   "cell_type": "markdown",
   "id": "23679c63",
   "metadata": {},
   "source": [
    "### Test baseline RSs on test set"
   ]
  },
  {
   "cell_type": "code",
   "execution_count": 20,
   "id": "c93f15d9",
   "metadata": {},
   "outputs": [],
   "source": [
    "ex1_res = run_simul_baseline(model = models[0], \n",
    "                   interaction = interaction_test_2, \n",
    "                   interaction_item = interaction_item_test)\n",
    "\n",
    "im1_res = run_simul_baseline(model = models[1], \n",
    "                   interaction = interaction_test_2, \n",
    "                   interaction_item = interaction_item_test)\n",
    "\n",
    "rd1_res = run_simul_baseline(model = models[2], \n",
    "                   interaction = interaction_test_2, \n",
    "                   interaction_item = interaction_item_test)\n",
    "\n",
    "\n",
    "\n"
   ]
  },
  {
   "cell_type": "code",
   "execution_count": 26,
   "id": "6519be03",
   "metadata": {},
   "outputs": [
    {
     "name": "stdout",
     "output_type": "stream",
     "text": [
      "0.2885963865011143\n",
      "0.08230858007004138\n",
      "0.016012515918497294\n"
     ]
    }
   ],
   "source": [
    "AP_ex1 = AP_calc(model_name = 'explicit', res = ex1_res)\n",
    "AP_im1 = AP_calc(model_name = 'implicit', res=  im1_res)\n",
    "AP_rd1 = AP_calc(model_name = 'random', res = rd1_res)\n",
    "\n",
    "print(AP_ex1['AP@5'].mean())\n",
    "print(AP_im1['AP@5'].mean())\n",
    "print(AP_rd1['AP@5'].mean())"
   ]
  },
  {
   "cell_type": "markdown",
   "id": "f2a4930c",
   "metadata": {},
   "source": [
    "### Test ENS LinUCB models with few hyperparameter settings :\n",
    "\n",
    "- alpha : hyperparam determining degrees of exploration (larger alpha -> more exploration)."
   ]
  },
  {
   "cell_type": "code",
   "execution_count": 27,
   "id": "7594f6ce",
   "metadata": {},
   "outputs": [],
   "source": [
    "models = [ex1, im1, rd1]"
   ]
  },
  {
   "cell_type": "code",
   "execution_count": 28,
   "id": "d1fa4ff0",
   "metadata": {},
   "outputs": [],
   "source": [
    "ens_linucb000 = recommender_ens_linucb(models = models, \n",
    "                                    I = item.shape[0], U = customer.shape[0], \n",
    "                                    N=5, alpha = 0)\n",
    "ens_linucb005 = recommender_ens_linucb(models = models, \n",
    "                                    I = item.shape[0], U = customer.shape[0], \n",
    "                                    N=5, alpha = 0.05)\n",
    "\n",
    "ens_linucb01 = recommender_ens_linucb(models = models, \n",
    "                                    I = item.shape[0], U = customer.shape[0], \n",
    "                                    N=5, alpha = 0.1)\n",
    "\n",
    "ens_linucb03 = recommender_ens_linucb(models = models, \n",
    "                                    I = item.shape[0], U = customer.shape[0], \n",
    "                                    N=5, alpha = 0.3)\n",
    "\n",
    "\n",
    "ens_linucb05 = recommender_ens_linucb(models = models, \n",
    "                                    I = item.shape[0], U = customer.shape[0], \n",
    "                                    N=5, alpha = 0.5)\n",
    "\n",
    "ens_linucb1 = recommender_ens_linucb(models = models, \n",
    "                                    I = item.shape[0], U = customer.shape[0], \n",
    "                                    N=5, alpha = 1)\n",
    "\n",
    "ens_linucb3 = recommender_ens_linucb(models = models, \n",
    "                                    I = item.shape[0], U = customer.shape[0], \n",
    "                                    N=5, alpha = 3)\n",
    "\n",
    "ens_linucb5 = recommender_ens_linucb(models = models, \n",
    "                                    I = item.shape[0], U = customer.shape[0], \n",
    "                                    N=5, alpha = 5)\n",
    "\n",
    "\n"
   ]
  },
  {
   "cell_type": "code",
   "execution_count": 30,
   "id": "5c030ad1",
   "metadata": {},
   "outputs": [
    {
     "data": {
      "text/plain": [
       "0.0021649156319643423"
      ]
     },
     "execution_count": 30,
     "metadata": {},
     "output_type": "execute_result"
    }
   ],
   "source": [
    "ens_res000 = ens_linucb000.predict_topN_2(interaction = interaction_test_2, \n",
    "                                    interaction_item = interaction_item_test, \n",
    "                                    N=5)\n",
    "\n",
    "\n",
    "AP_ens000 = AP_calc(model_name ='ens0.05', res = ens_res000)\n",
    "AP_ens000['AP@5'].mean()"
   ]
  },
  {
   "cell_type": "code",
   "execution_count": 31,
   "id": "10ee8628",
   "metadata": {},
   "outputs": [
    {
     "data": {
      "text/plain": [
       "0.18884859519261382"
      ]
     },
     "execution_count": 31,
     "metadata": {},
     "output_type": "execute_result"
    }
   ],
   "source": [
    "ens_res005 = ens_linucb005.predict_topN_2(interaction = interaction_test_2, \n",
    "                                    interaction_item = interaction_item_test, \n",
    "                                    N=5)\n",
    "\n",
    "\n",
    "\n",
    "\n",
    "AP_ens005 = AP_calc(model_name ='ens0.05', res = ens_res005)\n",
    "AP_ens005['AP@5'].mean()"
   ]
  },
  {
   "cell_type": "code",
   "execution_count": 32,
   "id": "d8eea150",
   "metadata": {},
   "outputs": [
    {
     "data": {
      "text/plain": [
       "0.22261570757720472"
      ]
     },
     "execution_count": 32,
     "metadata": {},
     "output_type": "execute_result"
    }
   ],
   "source": [
    "ens_res01 = ens_linucb01.predict_topN_2(interaction = interaction_test_2, \n",
    "                                    interaction_item = interaction_item_test, \n",
    "                                    N=5)\n",
    "\n",
    "\n",
    "AP_ens01 = AP_calc(model_name ='ens0.1', res = ens_res01)\n",
    "AP_ens01['AP@5'].mean()"
   ]
  },
  {
   "cell_type": "code",
   "execution_count": 33,
   "id": "e58a94cc",
   "metadata": {},
   "outputs": [
    {
     "data": {
      "text/plain": [
       "0.24761451368990767"
      ]
     },
     "execution_count": 33,
     "metadata": {},
     "output_type": "execute_result"
    }
   ],
   "source": [
    "ens_res03 = ens_linucb03.predict_topN_2(interaction = interaction_test_2, \n",
    "                                    interaction_item = interaction_item_test, \n",
    "                                    N=5)\n",
    "\n",
    "\n",
    "AP_ens03 = AP_calc(model_name ='ens0.3', res = ens_res03)\n",
    "AP_ens03['AP@5'].mean()"
   ]
  },
  {
   "cell_type": "code",
   "execution_count": 34,
   "id": "6874528b",
   "metadata": {},
   "outputs": [
    {
     "data": {
      "text/plain": [
       "0.2562621378541866"
      ]
     },
     "execution_count": 34,
     "metadata": {},
     "output_type": "execute_result"
    }
   ],
   "source": [
    "ens_res05 = ens_linucb05.predict_topN_2(interaction = interaction_test_2, \n",
    "                                    interaction_item = interaction_item_test, \n",
    "                                    N=5)\n",
    "\n",
    "\n",
    "\n",
    "\n",
    "AP_ens05 = AP_calc(model_name ='ens0.5', res = ens_res05)\n",
    "AP_ens05['AP@5'].mean()"
   ]
  },
  {
   "cell_type": "code",
   "execution_count": 35,
   "id": "b926c482",
   "metadata": {},
   "outputs": [
    {
     "data": {
      "text/plain": [
       "0.2354097023241006"
      ]
     },
     "execution_count": 35,
     "metadata": {},
     "output_type": "execute_result"
    }
   ],
   "source": [
    "ens_res1 = ens_linucb1.predict_topN_2(interaction = interaction_test_2, \n",
    "                                    interaction_item = interaction_item_test, \n",
    "                                    N=5)\n",
    "\n",
    "\n",
    "\n",
    "AP_ens1 = AP_calc(model_name ='ens1', res = ens_res1)\n",
    "AP_ens1['AP@5'].mean()"
   ]
  },
  {
   "cell_type": "code",
   "execution_count": 36,
   "id": "7c8dd9e1",
   "metadata": {},
   "outputs": [
    {
     "data": {
      "text/plain": [
       "0.13885536055396372"
      ]
     },
     "execution_count": 36,
     "metadata": {},
     "output_type": "execute_result"
    }
   ],
   "source": [
    "ens_res3 = ens_linucb3.predict_topN_2(interaction = interaction_test_2, \n",
    "                                    interaction_item = interaction_item_test, \n",
    "                                    N=5)\n",
    "\n",
    "\n",
    "AP_ens3 = AP_calc(model_name ='ens3', res = ens_res3)\n",
    "AP_ens3['AP@5'].mean()"
   ]
  },
  {
   "cell_type": "markdown",
   "id": "77279bfc",
   "metadata": {},
   "source": [
    "### Gathering Experiment results from baseline models( explit, implicit, random) & ENS LinUCBs. "
   ]
  },
  {
   "cell_type": "code",
   "execution_count": 37,
   "id": "afedd97e",
   "metadata": {},
   "outputs": [],
   "source": [
    "AP_out = pd.concat([AP_ex1, AP_im1, AP_rd1, AP_ens000, AP_ens005, AP_ens01, AP_ens03, AP_ens05, AP_ens1, AP_ens3],axis=0)"
   ]
  },
  {
   "cell_type": "code",
   "execution_count": 38,
   "id": "2814d5d9",
   "metadata": {},
   "outputs": [],
   "source": [
    "AP_out = AP_out.merge(interaction_test, how='left', \n",
    "             left_on = 'interaction_id', right_on = 'id').drop(['id'],axis=1)"
   ]
  },
  {
   "cell_type": "code",
   "execution_count": 39,
   "id": "3656da37",
   "metadata": {},
   "outputs": [],
   "source": [
    "# You can export AP_out to compare performances of different models\n",
    "\n",
    "# AP_out = AP_out.merge(customer[['id','gender','birth_date','device','main_address']], how='left',left_on = 'customer_id', right_on ='id').drop('id',axis=1)\n",
    "# AP_out.to_csv('AP_out.csv',encoding='utf-8', index=False)\n"
   ]
  },
  {
   "cell_type": "code",
   "execution_count": 40,
   "id": "b1486e60",
   "metadata": {},
   "outputs": [],
   "source": [
    "# You can dump trained model for serving later\n",
    "# import pickle\n",
    "# filename='ens_res03.pkl'\n",
    "# pickle.dump(ens_res03, open(filename, 'wb'), -1)"
   ]
  },
  {
   "cell_type": "code",
   "execution_count": 37,
   "id": "948b9918",
   "metadata": {},
   "outputs": [],
   "source": []
  },
  {
   "cell_type": "markdown",
   "id": "376aab08",
   "metadata": {},
   "source": [
    "References :\n",
    "\n",
    "- Li, Lihong, et al. \"A contextual-bandit approach to personalized news article recommendation.\" Proceedings of the 19th international conference on World wide web. 2010. APA\t\n",
    "- Sagi, Omer, and Lior Rokach. \"Ensemble learning: A survey.\" Wiley Interdisciplinary Reviews: Data Mining and Knowledge Discovery 8.4 (2018): e1249. APA\t\n",
    "- Das, Debashis, Laxman Sahoo, and Sujoy Datta. \"A survey on recommendation system.\" International Journal of Computer Applications 160.7 (2017).\n",
    "- Baltrunas, Linas, and Xavier Amatriain. \"Towards time-dependant recommendation based on implicit feedback.\" Workshop on context-aware recommender systems (CARS’09). 2009. APA\t\n",
    "- Hidasi, Balázs, and Domonkos Tikk. \"Fast ALS-based tensor factorization for context-aware recommendation from implicit feedback.\" Joint European Conference on Machine Learning and Knowledge Discovery in Databases. Springer, Berlin, Heidelberg, 2012.\n",
    "\n",
    "\n"
   ]
  }
 ],
 "metadata": {
  "kernelspec": {
   "display_name": "Python 3 (ipykernel)",
   "language": "python",
   "name": "python3"
  },
  "language_info": {
   "codemirror_mode": {
    "name": "ipython",
    "version": 3
   },
   "file_extension": ".py",
   "mimetype": "text/x-python",
   "name": "python",
   "nbconvert_exporter": "python",
   "pygments_lexer": "ipython3",
   "version": "3.9.5"
  }
 },
 "nbformat": 4,
 "nbformat_minor": 5
}
